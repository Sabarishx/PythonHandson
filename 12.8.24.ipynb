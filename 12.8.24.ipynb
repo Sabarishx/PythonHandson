{
 "cells": [
  {
   "cell_type": "code",
   "execution_count": 15,
   "id": "30a61e47-11ca-4012-b61a-62560142eb3f",
   "metadata": {},
   "outputs": [
    {
     "name": "stdin",
     "output_type": "stream",
     "text": [
      " 1\n",
      " 10\n"
     ]
    },
    {
     "name": "stdout",
     "output_type": "stream",
     "text": [
      "3\n",
      "5\n",
      "7\n",
      "9\n"
     ]
    }
   ],
   "source": [
    "n = int(input())\n",
    "a = int(input())\n",
    "for i in range (n,a):\n",
    "    if i%2==0:\n",
    "        print(i+1)"
   ]
  },
  {
   "cell_type": "code",
   "execution_count": 21,
   "id": "733b3bcf-2eba-4498-b97a-5b7f9f911ca0",
   "metadata": {},
   "outputs": [
    {
     "name": "stdout",
     "output_type": "stream",
     "text": [
      "[12, 3, 4, 56, 7, 8]\n",
      "<class 'list'>\n"
     ]
    }
   ],
   "source": [
    "a = [12,3,4,56,7,8]\n",
    "print(a)\n",
    "print(type(a))"
   ]
  },
  {
   "cell_type": "code",
   "execution_count": 25,
   "id": "115f984c-c5bd-44a1-9aa7-74d403baaff1",
   "metadata": {},
   "outputs": [
    {
     "name": "stdout",
     "output_type": "stream",
     "text": [
      "[12, 3, 4, 56, 7, 8, 29, 29]\n"
     ]
    }
   ],
   "source": [
    "a.append(29)\n",
    "print(a)"
   ]
  },
  {
   "cell_type": "code",
   "execution_count": 35,
   "id": "334c7344-0e4a-49c3-b9e0-a3d92aad8a35",
   "metadata": {},
   "outputs": [
    {
     "name": "stdout",
     "output_type": "stream",
     "text": [
      "[12, 3456789, 3, 3, 4, 56, 7, 8, 29, 29]\n"
     ]
    }
   ],
   "source": [
    "a.insert(1,3456789)\n",
    "print(a)"
   ]
  },
  {
   "cell_type": "code",
   "execution_count": 37,
   "id": "1ebd182c-1cbc-4294-b8b6-62cabd98a21e",
   "metadata": {},
   "outputs": [
    {
     "data": {
      "text/plain": [
       "3"
      ]
     },
     "execution_count": 37,
     "metadata": {},
     "output_type": "execute_result"
    }
   ],
   "source": [
    "a.pop(3)"
   ]
  },
  {
   "cell_type": "code",
   "execution_count": 39,
   "id": "0d61306d-d466-4c9d-b14f-8d6112f18153",
   "metadata": {},
   "outputs": [
    {
     "name": "stdout",
     "output_type": "stream",
     "text": [
      "[12, 3456789, 3, 4, 56, 7, 8, 29, 29]\n"
     ]
    }
   ],
   "source": [
    "print(a)"
   ]
  },
  {
   "cell_type": "code",
   "execution_count": 41,
   "id": "144d6800-23c8-478a-9fb7-23ff47d5c475",
   "metadata": {},
   "outputs": [
    {
     "data": {
      "text/plain": [
       "29"
      ]
     },
     "execution_count": 41,
     "metadata": {},
     "output_type": "execute_result"
    }
   ],
   "source": [
    "a.pop()"
   ]
  },
  {
   "cell_type": "code",
   "execution_count": 43,
   "id": "a87b7162-ef5f-40fe-967e-2bccbabd500f",
   "metadata": {},
   "outputs": [
    {
     "name": "stdout",
     "output_type": "stream",
     "text": [
      "[12, 3456789, 3, 4, 56, 7, 8, 29]\n"
     ]
    }
   ],
   "source": [
    "print(a)"
   ]
  },
  {
   "cell_type": "code",
   "execution_count": 47,
   "id": "c597ef77-b76b-4588-8459-8c96d5d57784",
   "metadata": {},
   "outputs": [
    {
     "name": "stdout",
     "output_type": "stream",
     "text": [
      "[12, 3, 4, 56, 7, 8, 29]\n"
     ]
    }
   ],
   "source": [
    "a.pop(1)\n",
    "print(a)"
   ]
  },
  {
   "cell_type": "code",
   "execution_count": 53,
   "id": "a6c75618-db15-463f-ae0d-0ca5296e1795",
   "metadata": {},
   "outputs": [
    {
     "name": "stdout",
     "output_type": "stream",
     "text": [
      "[12, 3, 6, 56, 7, 8, 29]\n"
     ]
    }
   ],
   "source": [
    "a[2] = 6\n",
    "print(a)"
   ]
  },
  {
   "cell_type": "code",
   "execution_count": 65,
   "id": "bb944c90-a70a-4bc4-8d4e-c3594c37a304",
   "metadata": {},
   "outputs": [
    {
     "name": "stdout",
     "output_type": "stream",
     "text": [
      "[1, 2, 3, 4]\n"
     ]
    }
   ],
   "source": [
    "a = (1,2,3,4)\n",
    "b = list(a)\n",
    "print(b)"
   ]
  },
  {
   "cell_type": "code",
   "execution_count": 1,
   "id": "b99ad4c7-4799-4776-bb90-167e87005364",
   "metadata": {},
   "outputs": [
    {
     "name": "stdout",
     "output_type": "stream",
     "text": [
      "{1, 2, 3, 4, 5}\n",
      "{2, 3, 4, 5}\n",
      "{2, 3, 4, 5, 43}\n",
      "{2, 3, 4, 5}\n",
      "<class 'set'>\n"
     ]
    }
   ],
   "source": [
    "a = {1,2,3,4,5}\n",
    "print(a)\n",
    "a.pop()\n",
    "print(a)\n",
    "a.add(43)\n",
    "print(a)\n",
    "a.remove(43)\n",
    "print(a)\n",
    "print(type(a))"
   ]
  },
  {
   "cell_type": "code",
   "execution_count": 25,
   "id": "87757674-7982-4db7-9e48-bea3cd62049d",
   "metadata": {},
   "outputs": [
    {
     "name": "stdout",
     "output_type": "stream",
     "text": [
      "{'name': 'sabarish', 'school': 'SMT.NDJA.VV', 'roll.no': '3535'}\n"
     ]
    }
   ],
   "source": [
    "b = {\"name\":\"sabarish\", \"school\":\"SMT.NDJA.VV\", \"roll.no\":\"3535\"}\n",
    "print(b)"
   ]
  },
  {
   "cell_type": "code",
   "execution_count": 27,
   "id": "54495e3e-84b7-48a3-a6b5-0a9c4b0b5bc9",
   "metadata": {},
   "outputs": [
    {
     "name": "stdout",
     "output_type": "stream",
     "text": [
      "sabarish\n",
      "dict_keys(['name', 'school', 'roll.no'])\n",
      "dict_values(['sabarish', 'SMT.NDJA.VV', '3535'])\n",
      "{'name': 'sabarish', 'school': 'SMT.NDJA.VV', 'roll.no': '3535'}\n"
     ]
    }
   ],
   "source": [
    "print(b[\"name\"])\n",
    "print(b.keys())\n",
    "print(b.values())\n",
    "print(b)"
   ]
  },
  {
   "cell_type": "code",
   "execution_count": 13,
   "id": "6a9e6d6c-33d9-4285-9796-288b24ada04d",
   "metadata": {},
   "outputs": [
    {
     "name": "stdout",
     "output_type": "stream",
     "text": [
      "dict_keys(['name', 'school', 'roll.no'])\n"
     ]
    }
   ],
   "source": [
    "print(b.keys())"
   ]
  },
  {
   "cell_type": "markdown",
   "id": "3f1130cc-fcb7-4d10-8803-f47ca6140fb0",
   "metadata": {},
   "source": [
    "Here’s a brief overview of lists, tuples, sets, and dictionaries in Python:\n",
    "\n",
    "### 1. **List**\n",
    "- **Definition**: A list is an ordered collection of items that are mutable (i.e., you can change, add, or remove elements).\n",
    "- **Syntax**: Lists are defined by square brackets `[]`.\n",
    "- **Example**: \n",
    "  ```python\n",
    "  my_list = [1, 2, 3, 4, 5]\n",
    "  ```\n",
    "- **Characteristics**:\n",
    "  - **Ordered**: Items have a defined order, and you can access elements using an index.\n",
    "  - **Mutable**: You can modify the elements after the list has been created.\n",
    "  - **Allows Duplicates**: Lists can contain duplicate elements.\n",
    "\n",
    "### 2. **Tuple**\n",
    "- **Definition**: A tuple is an ordered collection of items that are immutable (i.e., once created, you cannot modify its elements).\n",
    "- **Syntax**: Tuples are defined by parentheses `()`.\n",
    "- **Example**:\n",
    "  ```python\n",
    "  my_tuple = (1, 2, 3, 4, 5)\n",
    "  ```\n",
    "- **Characteristics**:\n",
    "  - **Ordered**: Like lists, tuples maintain the order of elements, and you can access them by index.\n",
    "  - **Immutable**: Once a tuple is created, you cannot change its elements.\n",
    "  - **Allows Duplicates**: Tuples can also contain duplicate elements.\n",
    "\n",
    "### 3. **Set**\n",
    "- **Definition**: A set is an unordered collection of unique elements.\n",
    "- **Syntax**: Sets are defined by curly braces `{}`.\n",
    "- **Example**:\n",
    "  ```python\n",
    "  my_set = {1, 2, 3, 4, 5}\n",
    "  ```\n",
    "- **Characteristics**:\n",
    "  - **Unordered**: Sets do not maintain any order, and you cannot access elements by index.\n",
    "  - **Mutable**: You can add or remove elements, but all elements must be unique.\n",
    "  - **No Duplicates**: Sets automatically discard duplicate values.\n",
    "\n",
    "### 4. **Dictionary**\n",
    "- **Definition**: A dictionary is a collection of key-value pairs.\n",
    "- **Syntax**: Dictionaries are also defined by curly braces `{}`, but with key-value pairs separated by colons `:`.\n",
    "- **Example**:\n",
    "  ```python\n",
    "  my_dict = {'name': 'Alice', 'age': 25, 'city': 'New York'}\n",
    "  ```\n",
    "- **Characteristics**:\n",
    "  - **Unordered** (in versions prior to Python 3.7): Starting from Python 3.7+, dictionaries maintain insertion order.\n",
    "  - **Mutable**: You can change, add, or remove key-value pairs.\n",
    "  - **Keys Must Be Unique**: Keys in a dictionary must be unique, though values can be duplicated.\n",
    "\n",
    "### Summary:\n",
    "- **List**: Ordered, mutable, allows duplicates.\n",
    "- **Tuple**: Ordered, immutable, allows duplicates.\n",
    "- **Set**: Unordered, mutable, unique elements only.\n",
    "- **Dictionary**: Unordered (pre-Python 3.7), mutable, keys must be unique, values can be duplicated.\n",
    "\n",
    "These collections are fundamental to Python and are used to store and manipulate data in various ways."
   ]
  },
  {
   "cell_type": "code",
   "execution_count": null,
   "id": "933a68e3-a4b1-4926-a769-75fce8bfaf84",
   "metadata": {},
   "outputs": [],
   "source": []
  }
 ],
 "metadata": {
  "kernelspec": {
   "display_name": "Python 3 (ipykernel)",
   "language": "python",
   "name": "python3"
  },
  "language_info": {
   "codemirror_mode": {
    "name": "ipython",
    "version": 3
   },
   "file_extension": ".py",
   "mimetype": "text/x-python",
   "name": "python",
   "nbconvert_exporter": "python",
   "pygments_lexer": "ipython3",
   "version": "3.12.4"
  }
 },
 "nbformat": 4,
 "nbformat_minor": 5
}
