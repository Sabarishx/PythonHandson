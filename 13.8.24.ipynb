{
 "cells": [
  {
   "cell_type": "markdown",
   "id": "ca000a43-a58f-4ad7-bd44-68e8cddaabc2",
   "metadata": {},
   "source": [
    "Functions"
   ]
  },
  {
   "cell_type": "code",
   "execution_count": 8,
   "id": "ec235b5a-ef5b-4c3f-bf30-c43163077b74",
   "metadata": {},
   "outputs": [
    {
     "name": "stdin",
     "output_type": "stream",
     "text": [
      " 1\n",
      " 2\n"
     ]
    },
    {
     "name": "stdout",
     "output_type": "stream",
     "text": [
      "3\n"
     ]
    },
    {
     "name": "stdin",
     "output_type": "stream",
     "text": [
      " 1\n",
      " 2\n"
     ]
    },
    {
     "name": "stdout",
     "output_type": "stream",
     "text": [
      "-1\n"
     ]
    },
    {
     "name": "stdin",
     "output_type": "stream",
     "text": [
      " 1\n",
      " 2\n"
     ]
    },
    {
     "name": "stdout",
     "output_type": "stream",
     "text": [
      "2\n"
     ]
    },
    {
     "name": "stdin",
     "output_type": "stream",
     "text": [
      " 1\n",
      " 2\n"
     ]
    },
    {
     "name": "stdout",
     "output_type": "stream",
     "text": [
      "0.5\n"
     ]
    }
   ],
   "source": [
    "def add():\n",
    "    a = int(input())\n",
    "    b = int(input())\n",
    "    print(a+b)\n",
    "\n",
    "def subtract():\n",
    "    a = int(input())\n",
    "    b = int(input())\n",
    "    print(a-b)\n",
    "\n",
    "def multiply():\n",
    "    a = int(input())\n",
    "    b = int(input())\n",
    "    print(a*b)\n",
    "\n",
    "def division():\n",
    "    a = int(input())\n",
    "    b = int(input())\n",
    "    print(a/b)\n",
    "\n",
    "add()\n",
    "subtract()\n",
    "multiply()\n",
    "division()"
   ]
  },
  {
   "cell_type": "code",
   "execution_count": 10,
   "id": "8723c335-7a01-47e5-940f-625d678aac5d",
   "metadata": {},
   "outputs": [],
   "source": [
    "def findevenorodd():\n",
    "    n = int(input(\"Enter the number:\"))\n",
    "    if n%2==0:\n",
    "        print(\"It is a even number\")\n",
    "    else:\n",
    "        print(\"it is a odd number\")"
   ]
  },
  {
   "cell_type": "code",
   "execution_count": 12,
   "id": "10e9203f-3d85-49e0-8a76-d5acf083ed2b",
   "metadata": {},
   "outputs": [
    {
     "name": "stdin",
     "output_type": "stream",
     "text": [
      "Enter the number: 2\n"
     ]
    },
    {
     "name": "stdout",
     "output_type": "stream",
     "text": [
      "It is a even number\n"
     ]
    }
   ],
   "source": [
    "findevenorodd()"
   ]
  },
  {
   "cell_type": "code",
   "execution_count": 14,
   "id": "b93b9801-11d4-43e4-882f-bd0cb33dc552",
   "metadata": {},
   "outputs": [
    {
     "name": "stdin",
     "output_type": "stream",
     "text": [
      " 4\n",
      " 9876543\n"
     ]
    },
    {
     "name": "stdout",
     "output_type": "stream",
     "text": [
      "9876547\n"
     ]
    }
   ],
   "source": [
    "add()"
   ]
  },
  {
   "cell_type": "code",
   "execution_count": 16,
   "id": "a1bf23bb-a420-44a9-9a54-8ce1582cd687",
   "metadata": {},
   "outputs": [
    {
     "name": "stdin",
     "output_type": "stream",
     "text": [
      "Enter the number: 123456789\n"
     ]
    },
    {
     "name": "stdout",
     "output_type": "stream",
     "text": [
      "it is a odd number\n"
     ]
    }
   ],
   "source": [
    "findevenorodd()"
   ]
  },
  {
   "cell_type": "code",
   "execution_count": 26,
   "id": "d3ddb260-c416-48c6-9d6f-67d8d81ff9b9",
   "metadata": {},
   "outputs": [
    {
     "name": "stdout",
     "output_type": "stream",
     "text": [
      "Fail\n"
     ]
    }
   ],
   "source": [
    "def passorfail(mark):\n",
    "    if mark<35:\n",
    "        print(\"Fail\")\n",
    "    else:\n",
    "        print(\"Pass\")\n",
    "\n",
    "passorfail(2)\n",
    "    "
   ]
  },
  {
   "cell_type": "code",
   "execution_count": 44,
   "id": "021b9a32-7062-485b-8657-9841ff04855b",
   "metadata": {},
   "outputs": [
    {
     "name": "stdin",
     "output_type": "stream",
     "text": [
      "Enter the Number: 1\n",
      "Enter the Number: 10\n"
     ]
    },
    {
     "name": "stdout",
     "output_type": "stream",
     "text": [
      "1\n",
      "2\n",
      "3\n",
      "4\n",
      "5\n",
      "6\n",
      "7\n",
      "8\n",
      "9\n"
     ]
    }
   ],
   "source": [
    "def printrange(a,b):\n",
    "    for i in range(a,b):\n",
    "        print(i)\n",
    "\n",
    "x = int(input(\"Enter the Number:\"))\n",
    "y = int(input(\"Enter the Number:\"))\n",
    "printrange(x,y)"
   ]
  },
  {
   "cell_type": "code",
   "execution_count": 46,
   "id": "3f4f2fad-6e42-441c-8f28-578b5f964225",
   "metadata": {},
   "outputs": [
    {
     "name": "stdin",
     "output_type": "stream",
     "text": [
      "Enter your Username: EMC\n",
      "Enter your password: 123\n"
     ]
    },
    {
     "data": {
      "text/plain": [
       "'True'"
      ]
     },
     "execution_count": 46,
     "metadata": {},
     "output_type": "execute_result"
    }
   ],
   "source": [
    "set_username = \"EMC\"\n",
    "set_password = \"123\"\n",
    "\n",
    "username = input(\"Enter your Username:\")\n",
    "password = input(\"Enter your password:\")\n",
    "\n",
    "def validate():\n",
    "    if username == set_username and password == set_password:\n",
    "        return \"True\"\n",
    "    else:\n",
    "        return \"False\"\n",
    "\n",
    "validate()"
   ]
  },
  {
   "cell_type": "code",
   "execution_count": 48,
   "id": "7b9cc9d1-8aa2-4dda-9aeb-bbbded98d911",
   "metadata": {},
   "outputs": [
    {
     "name": "stdin",
     "output_type": "stream",
     "text": [
      "Enter your Username: sdf\n",
      "Enter your password: 34567\n"
     ]
    },
    {
     "data": {
      "text/plain": [
       "'False'"
      ]
     },
     "execution_count": 48,
     "metadata": {},
     "output_type": "execute_result"
    }
   ],
   "source": [
    "set_username = \"EMC\"\n",
    "set_password = \"123\"\n",
    "\n",
    "username = input(\"Enter your Username:\")\n",
    "password = input(\"Enter your password:\")\n",
    "\n",
    "def validate():\n",
    "    if username == set_username and password == set_password:\n",
    "        return \"True\"\n",
    "    else:\n",
    "        return \"False\"\n",
    "\n",
    "validate()"
   ]
  },
  {
   "cell_type": "code",
   "execution_count": 50,
   "id": "d43d4348-5d52-4a6c-abbc-499289cd6209",
   "metadata": {},
   "outputs": [
    {
     "name": "stdin",
     "output_type": "stream",
     "text": [
      "Enter your Username: emc\n",
      "Enter your password: 123\n"
     ]
    },
    {
     "data": {
      "text/plain": [
       "'False'"
      ]
     },
     "execution_count": 50,
     "metadata": {},
     "output_type": "execute_result"
    }
   ],
   "source": [
    "set_username = \"EMC\"\n",
    "set_password = \"123\"\n",
    "\n",
    "\n",
    "def validate():\n",
    "    if username == set_username and password == set_password:\n",
    "        return \"True\"\n",
    "    else:\n",
    "        return \"False\"\n",
    "\n",
    "username = input(\"Enter your Username:\")\n",
    "password = input(\"Enter your password:\")\n",
    "validate()"
   ]
  },
  {
   "cell_type": "code",
   "execution_count": 54,
   "id": "58ecdd97-a4ba-4898-8138-0f5062292bfd",
   "metadata": {},
   "outputs": [
    {
     "name": "stdin",
     "output_type": "stream",
     "text": [
      "Enter your Username: EMC\n",
      "Enter your password: 123\n"
     ]
    },
    {
     "name": "stdout",
     "output_type": "stream",
     "text": [
      "True\n"
     ]
    }
   ],
   "source": [
    "set_username = \"EMC\"\n",
    "set_password = \"123\"\n",
    "\n",
    "\n",
    "def validate():\n",
    "    if username == set_username and password == set_password:\n",
    "        return \"True\"\n",
    "    else:\n",
    "        return \"False\"\n",
    "\n",
    "username = input(\"Enter your Username:\")\n",
    "password = input(\"Enter your password:\")\n",
    "print(validate())"
   ]
  },
  {
   "cell_type": "code",
   "execution_count": 60,
   "id": "d5c36506-2f54-4048-bc19-5441a201c512",
   "metadata": {},
   "outputs": [
    {
     "name": "stdin",
     "output_type": "stream",
     "text": [
      "Enter your Username: 34567\n",
      "Enter your password: 345678\n"
     ]
    },
    {
     "data": {
      "text/plain": [
       "'False'"
      ]
     },
     "execution_count": 60,
     "metadata": {},
     "output_type": "execute_result"
    }
   ],
   "source": [
    "set_username = \"EMC\"\n",
    "set_password = \"123\"\n",
    "\n",
    "\n",
    "def validate():\n",
    "    if username == set_username and password == set_password:\n",
    "        return \"True\"\n",
    "    else:\n",
    "        return \"False\"\n",
    "\n",
    "username = input(\"Enter your Username:\")\n",
    "password = input(\"Enter your password:\")\n",
    "validate()"
   ]
  },
  {
   "cell_type": "code",
   "execution_count": 72,
   "id": "9e6443d3-b43f-495e-ad09-dae0195966e1",
   "metadata": {},
   "outputs": [
    {
     "name": "stdin",
     "output_type": "stream",
     "text": [
      " 10\n",
      " 20\n",
      " 10\n"
     ]
    },
    {
     "data": {
      "text/plain": [
       "300"
      ]
     },
     "execution_count": 72,
     "metadata": {},
     "output_type": "execute_result"
    }
   ],
   "source": [
    "def addandmultiply(a,b,c):\n",
    "    return (a+b)*c\n",
    "\n",
    "x = int(input())\n",
    "y = int(input())\n",
    "z = int(input())\n",
    "addandmultiply(x,y,z)"
   ]
  },
  {
   "cell_type": "code",
   "execution_count": null,
   "id": "6d809f9c-f663-4885-886b-c4c3ccd584a8",
   "metadata": {},
   "outputs": [],
   "source": []
  }
 ],
 "metadata": {
  "kernelspec": {
   "display_name": "Python 3 (ipykernel)",
   "language": "python",
   "name": "python3"
  },
  "language_info": {
   "codemirror_mode": {
    "name": "ipython",
    "version": 3
   },
   "file_extension": ".py",
   "mimetype": "text/x-python",
   "name": "python",
   "nbconvert_exporter": "python",
   "pygments_lexer": "ipython3",
   "version": "3.12.4"
  }
 },
 "nbformat": 4,
 "nbformat_minor": 5
}
