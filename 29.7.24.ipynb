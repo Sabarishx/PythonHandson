{
 "cells": [
  {
   "cell_type": "code",
   "execution_count": null,
   "id": "46a9d685-3981-48e0-9164-43208e9d6d73",
   "metadata": {},
   "outputs": [],
   "source": [
    "a = int(input())\n",
    "b = int(input())\n",
    "c = int(input())\n",
    "multiply = a*b*c\n",
    "add = a+b+c\n",
    "divide = round((multiply/add),2)\n",
    "print(\"here is the divided value:\", divide)"
   ]
  },
  {
   "cell_type": "code",
   "execution_count": null,
   "id": "589f409b-c0d5-4175-a3d5-21185d3f9405",
   "metadata": {},
   "outputs": [],
   "source": [
    "a = int(input())\n",
    "b = int(input())\n",
    "c = int(input())\n",
    "multiply = a*b*c\n",
    "add = a+b+c\n",
    "divide = float(multiply/add)\n",
    "print(\"here is the divided value:\", divide)"
   ]
  },
  {
   "cell_type": "code",
   "execution_count": null,
   "id": "f88d4a8c-cff8-49f5-9b6c-2b6957cb6602",
   "metadata": {},
   "outputs": [],
   "source": [
    "name = input()\n",
    "score = int(input())\n",
    "department = input()\n",
    "print(\"My name is:\", name)\n",
    "print(\"My CGPA is:\", score/10)\n",
    "print(\"My department is:\", department)"
   ]
  },
  {
   "cell_type": "markdown",
   "id": "ecd52374-3ad9-47b0-b159-79b4dd562e5b",
   "metadata": {},
   "source": [
    "If else function"
   ]
  },
  {
   "cell_type": "code",
   "execution_count": null,
   "id": "fc4cacf1-a710-4f17-84f6-60e04c531de6",
   "metadata": {},
   "outputs": [],
   "source": [
    "if(True):\n",
    "    print(\"Yes\")\n",
    "else:\n",
    "    print(\"No\")"
   ]
  },
  {
   "cell_type": "code",
   "execution_count": null,
   "id": "3db9df86-88c2-4e12-9f22-0f6c679e93fb",
   "metadata": {},
   "outputs": [],
   "source": [
    "if(\"Sabarishx\" == \"Sabarish\"):\n",
    "    print(\"It's correct\")\n",
    "else:\n",
    "    print(\"It's not correct\")"
   ]
  },
  {
   "cell_type": "code",
   "execution_count": null,
   "id": "5d33ff34-093f-45f8-93ca-2cd4b3dc97e7",
   "metadata": {},
   "outputs": [],
   "source": [
    "Meghna = input()\n",
    "\n",
    "if(Meghna == \"Died\"):\n",
    "    print(\"Surya weds Priya\")\n",
    "else:\n",
    "    print(\"Surya weds Meghna\")"
   ]
  },
  {
   "cell_type": "code",
   "execution_count": null,
   "id": "913c1b3f-3051-4237-9ac6-35efc1266f92",
   "metadata": {},
   "outputs": [],
   "source": [
    "Meghna = input()\n",
    "\n",
    "if(Meghna == \"Died\"):\n",
    "    print(\"Surya weds Priya\")\n",
    "else:\n",
    "    print(\"Surya weds Meghna\")"
   ]
  },
  {
   "cell_type": "code",
   "execution_count": null,
   "id": "8eca7ea8-8d03-41f3-9b24-df12ab1333f2",
   "metadata": {},
   "outputs": [],
   "source": [
    "Meghna = input()\n",
    "\n",
    "if(Meghna == \"Died\"):\n",
    "    print(\"Surya weds Priya\")\n",
    "else:\n",
    "    print(\"Surya weds Meghna\")"
   ]
  },
  {
   "cell_type": "markdown",
   "id": "0b914e1b-8968-474d-bb33-bbf2f2c57e59",
   "metadata": {},
   "source": [
    "Nested if & elif concepts"
   ]
  },
  {
   "cell_type": "code",
   "execution_count": null,
   "id": "e8349a75-10ca-4f9e-8a3c-8705319f5020",
   "metadata": {},
   "outputs": [],
   "source": [
    "mark = int(input(\"What is your mark?\"))\n",
    "if(mark >= 35):\n",
    "    print(\"You are Pass\")\n",
    "else:\n",
    "    print(\"You are Fail\")"
   ]
  },
  {
   "cell_type": "code",
   "execution_count": null,
   "id": "6e04e245-8e2b-4c0e-9523-faed2a717676",
   "metadata": {},
   "outputs": [],
   "source": [
    "mark = int(input(\"What is your mark?\"))\n",
    "if(mark >= 35):\n",
    "    print(\"You are Pass\")\n",
    "else:\n",
    "    print(\"You are Fail\")"
   ]
  },
  {
   "cell_type": "code",
   "execution_count": null,
   "id": "763e5021-2b4a-452e-9797-cdd292229e02",
   "metadata": {},
   "outputs": [],
   "source": [
    "income = int(input(\"What is your income\"))\n",
    "if(income > 7200):\n",
    "    print(\"You are not eligible for Scholarship\")\n",
    "else:\n",
    "    print(\"You are eligible for scholarship\")"
   ]
  },
  {
   "cell_type": "code",
   "execution_count": null,
   "id": "beb7785c-5240-4bf6-ac4a-94bf6328ef48",
   "metadata": {},
   "outputs": [],
   "source": [
    "income = int(input(\"What is your income\"))\n",
    "if(income > 7200):\n",
    "    print(\"You are not eligible for Scholarship\")\n",
    "else:\n",
    "    print(\"You are eligible for scholarship\")"
   ]
  },
  {
   "cell_type": "code",
   "execution_count": null,
   "id": "3ae438ad-e315-4fa7-b383-9b3251f5260e",
   "metadata": {},
   "outputs": [],
   "source": [
    "income = int(input(\"What is your income\"))\n",
    "if(income > 7200):\n",
    "    print(\"You are not eligible for Scholarship\")\n",
    "else:\n",
    "    print(\"You are eligible for scholarship\")"
   ]
  },
  {
   "cell_type": "code",
   "execution_count": null,
   "id": "57f0925a-055a-491d-939f-dadee942c37d",
   "metadata": {},
   "outputs": [],
   "source": [
    "a = int(input(\"Type the number here:\"))\n",
    "if(a%3==0 and a%5==0):\n",
    "    print(\"It is divisible by 3 and 5\")\n",
    "else:\n",
    "    print(\"It is not divisible by 3 and 5\")"
   ]
  },
  {
   "cell_type": "code",
   "execution_count": null,
   "id": "51656758-fe50-4b03-af84-2f53b8a131c0",
   "metadata": {},
   "outputs": [],
   "source": [
    "a = int(input(\"Type the number here:\"))\n",
    "if(a%3==0 and a%5==0):\n",
    "    print(\"It is divisible by 3 and 5\")\n",
    "else:\n",
    "    print(\"It is not divisible by 3 and 5\")"
   ]
  },
  {
   "cell_type": "code",
   "execution_count": null,
   "id": "a74a13fb-2d15-4fc6-8f9f-3a968720b396",
   "metadata": {},
   "outputs": [],
   "source": [
    "a = int(input(\"Type the number here:\"))\n",
    "if(a%3==0 and a%5==0):\n",
    "    print(\"It is divisible by 3 and 5\")\n",
    "else:\n",
    "    print(\"It is not divisible by 3 and 5\")"
   ]
  },
  {
   "cell_type": "code",
   "execution_count": null,
   "id": "cdb8baed-b218-4a98-8541-f26a77f73828",
   "metadata": {},
   "outputs": [],
   "source": [
    "a = int(input(\"Type the number here:\"))\n",
    "if(a%3==0 and a%5==0):\n",
    "    print(\"It is divisible by 3 and 5\")\n",
    "else:\n",
    "    print(\"It is not divisible by 3 and 5\")"
   ]
  },
  {
   "cell_type": "code",
   "execution_count": 1,
   "id": "87963cc1-e313-4365-848d-e5521a802162",
   "metadata": {},
   "outputs": [
    {
     "name": "stdin",
     "output_type": "stream",
     "text": [
      "Type the number here: 2\n"
     ]
    },
    {
     "name": "stdout",
     "output_type": "stream",
     "text": [
      "It's an even number\n"
     ]
    }
   ],
   "source": [
    "b = int(input(\"Type the number here:\"))\n",
    "if(b%2==0):\n",
    "    print(\"It's an even number\")\n",
    "else:\n",
    "    print(\"It's an odd number\")"
   ]
  },
  {
   "cell_type": "code",
   "execution_count": 3,
   "id": "36c1f66a-cf42-4847-93fe-57c4c70888ef",
   "metadata": {},
   "outputs": [
    {
     "name": "stdin",
     "output_type": "stream",
     "text": [
      "Type the number here: 111\n"
     ]
    },
    {
     "name": "stdout",
     "output_type": "stream",
     "text": [
      "It's an odd number\n"
     ]
    }
   ],
   "source": [
    "b = int(input(\"Type the number here:\"))\n",
    "if(b%2==0):\n",
    "    print(\"It's an even number\")\n",
    "else:\n",
    "    print(\"It's an odd number\")"
   ]
  },
  {
   "cell_type": "code",
   "execution_count": 25,
   "id": "59d46b28-72ce-42e9-a57e-7ce10f6b7c2e",
   "metadata": {},
   "outputs": [
    {
     "name": "stdin",
     "output_type": "stream",
     "text": [
      " 93\n"
     ]
    },
    {
     "name": "stdout",
     "output_type": "stream",
     "text": [
      "Good Student\n"
     ]
    }
   ],
   "source": [
    "mark = int(input())\n",
    "if(mark<35):\n",
    "    print(\"Poor Student\")\n",
    "elif(mark>=35 and mark<=70):\n",
    "    print(\"Average Student\")\n",
    "else:\n",
    "    print(\"Good Student\")"
   ]
  },
  {
   "cell_type": "code",
   "execution_count": 29,
   "id": "0117a604-8aa4-428d-bbfc-90025223b4dd",
   "metadata": {},
   "outputs": [
    {
     "name": "stdin",
     "output_type": "stream",
     "text": [
      " 86\n"
     ]
    },
    {
     "name": "stdout",
     "output_type": "stream",
     "text": [
      "Good Student\n"
     ]
    }
   ],
   "source": [
    "mark = int(input())\n",
    "if(mark<35):\n",
    "    print(\"Poor Student\")\n",
    "elif(mark>=35 and mark<=70):\n",
    "    print(\"Average Student\")\n",
    "elif(mark>=70 and mark<=100):\n",
    "    print(\"Good Student\")\n",
    "else:\n",
    "    print(\"Invalid Student\")"
   ]
  },
  {
   "cell_type": "code",
   "execution_count": 31,
   "id": "d89b2553-0c5a-43f0-b3aa-f46341fef315",
   "metadata": {},
   "outputs": [
    {
     "name": "stdin",
     "output_type": "stream",
     "text": [
      " 1000\n"
     ]
    },
    {
     "name": "stdout",
     "output_type": "stream",
     "text": [
      "Invalid Student\n"
     ]
    }
   ],
   "source": [
    "mark = int(input())\n",
    "if(mark<35):\n",
    "    print(\"Poor Student\")\n",
    "elif(mark>=35 and mark<=70):\n",
    "    print(\"Average Student\")\n",
    "elif(mark>=70 and mark<=100):\n",
    "    print(\"Good Student\")\n",
    "else:\n",
    "    print(\"Invalid Student\")"
   ]
  },
  {
   "cell_type": "code",
   "execution_count": 1,
   "id": "679a13e1-ddb2-466e-aae0-07e04131b520",
   "metadata": {},
   "outputs": [
    {
     "name": "stdin",
     "output_type": "stream",
     "text": [
      " 5\n",
      " 5\n",
      "What operation do I need to perform Add\n"
     ]
    },
    {
     "name": "stdout",
     "output_type": "stream",
     "text": [
      "Invalid Input\n"
     ]
    }
   ],
   "source": [
    "a = int(input())\n",
    "b = int(input())\n",
    "ask = input(\"What operation do I need to perform\")\n",
    "if(ask == \"add\"):\n",
    "    print(\"Result\", a+b)\n",
    "elif(ask == \"multiply\"):\n",
    "    print(\"Result\", a*b)\n",
    "elif(ask == \"subtract\"):\n",
    "    print(\"Result\", a-b)\n",
    "elif(ask == \"Divide\"):\n",
    "    print(\"Result\", a//b)\n",
    "else:\n",
    "    print(\"Invalid Input\")"
   ]
  },
  {
   "cell_type": "code",
   "execution_count": 1,
   "id": "2c7b3da4-32da-4cde-9f85-8bde514ce340",
   "metadata": {},
   "outputs": [
    {
     "name": "stdin",
     "output_type": "stream",
     "text": [
      "A: 534\n",
      "B: 34\n",
      "What operation do I need to perform = add/multiply/divide/subtract subtract\n"
     ]
    },
    {
     "name": "stdout",
     "output_type": "stream",
     "text": [
      "Result= 500\n"
     ]
    }
   ],
   "source": [
    "a = int(input(\"A:\"))\n",
    "b = int(input(\"B:\"))\n",
    "ask = input(\"What operation do I need to perform = add/multiply/divide/subtract\")\n",
    "if(ask == \"add\" or ask == \"Add\"):\n",
    "    print(\"Result=\", a+b)\n",
    "elif(ask == \"multiply\"or ask == \"Multiply\"):\n",
    "    print(\"Result=\", a*b)\n",
    "elif(ask == \"subtract\" or ask == \"Subtract\"):\n",
    "    print(\"Result=\", a-b)\n",
    "elif(ask == \"Divide\" or ask == \"divide\"):\n",
    "    print(\"Result=\", a/b)\n",
    "else:\n",
    "    print(\"Invalid Input\")"
   ]
  },
  {
   "cell_type": "code",
   "execution_count": 7,
   "id": "f6477c8a-4322-466a-9db4-0c630b2accb5",
   "metadata": {},
   "outputs": [
    {
     "name": "stdin",
     "output_type": "stream",
     "text": [
      "What is your salary per annum: 150000\n",
      "What's your age as of 2023: 26\n"
     ]
    },
    {
     "name": "stdout",
     "output_type": "stream",
     "text": [
      "You are eligible for 50K loan\n"
     ]
    }
   ],
   "source": [
    "salary = int(input(\"What is your salary per annum:\"))\n",
    "age = int(input(\"What's your age as of 2023:\"))\n",
    "if(salary<=200000 and age>=23):\n",
    "    print(\"You are eligible for 50K loan\")\n",
    "elif(salary>200000 and age>=23):\n",
    "    print(\"You are not eligible for 50K loan\")\n",
    "elif(salary<200000 and age>23):\n",
    "    print(\"You are not eligible for 50K loan\")\n",
    "else:\n",
    "    print(\"Invalid input\")"
   ]
  },
  {
   "cell_type": "code",
   "execution_count": 11,
   "id": "8fb17d4c-c221-479d-a42d-fb61426f9e61",
   "metadata": {},
   "outputs": [
    {
     "name": "stdin",
     "output_type": "stream",
     "text": [
      "What is your salary per annum: 20000000\n",
      "What's your age as of 2023: 23\n"
     ]
    },
    {
     "name": "stdout",
     "output_type": "stream",
     "text": [
      "You are eligible for 50K loan\n"
     ]
    }
   ],
   "source": [
    "salary = int(input(\"What is your salary per annum:\"))\n",
    "age = int(input(\"What's your age as of 2023:\"))\n",
    "if(salary>=200000 and age>=23):\n",
    "    print(\"You are eligible for 50K loan\")\n",
    "elif(salary<200000 and age>=23):\n",
    "    print(\"You are not eligible for 50K loan\")\n",
    "elif(salary<200000 and age<23):\n",
    "    print(\"You are not eligible for 50K loan\")\n",
    "else:\n",
    "    print(\"Invalid input\")"
   ]
  },
  {
   "cell_type": "code",
   "execution_count": 13,
   "id": "8dc68c90-d260-4016-a1bf-1f89fa9814a1",
   "metadata": {},
   "outputs": [
    {
     "name": "stdin",
     "output_type": "stream",
     "text": [
      "What is your salary per annum: 3456789\n",
      "What's your age as of 2023: 23456789\n"
     ]
    },
    {
     "name": "stdout",
     "output_type": "stream",
     "text": [
      "You are eligible for 50K loan\n"
     ]
    }
   ],
   "source": [
    "salary = int(input(\"What is your salary per annum:\"))\n",
    "age = int(input(\"What's your age as of 2023:\"))\n",
    "if(salary>=200000 and age>=23):\n",
    "    print(\"You are eligible for 50K loan\")\n",
    "elif(salary<200000 and age>=23):\n",
    "    print(\"You are not eligible for 50K loan\")\n",
    "elif(salary<200000 and age<23):\n",
    "    print(\"You are not eligible for 50K loan\")\n",
    "else:\n",
    "    print(\"Invalid input\")"
   ]
  },
  {
   "cell_type": "code",
   "execution_count": 15,
   "id": "efcd1196-09f2-44ab-97bd-a6e334abd09e",
   "metadata": {},
   "outputs": [
    {
     "name": "stdin",
     "output_type": "stream",
     "text": [
      "What is your salary per annum: 34\n",
      "What's your age as of 2023: 60\n"
     ]
    },
    {
     "name": "stdout",
     "output_type": "stream",
     "text": [
      "You are not eligible for 50K loan\n"
     ]
    }
   ],
   "source": [
    "salary = int(input(\"What is your salary per annum:\"))\n",
    "age = int(input(\"What's your age as of 2023:\"))\n",
    "if(salary>=200000 and age>=23):\n",
    "    print(\"You are eligible for 50K loan\")\n",
    "elif(salary<200000 and age>=23):\n",
    "    print(\"You are not eligible for 50K loan\")\n",
    "elif(salary<200000 and age<23):\n",
    "    print(\"You are not eligible for 50K loan\")\n",
    "else:\n",
    "    print(\"Invalid input\")"
   ]
  },
  {
   "cell_type": "code",
   "execution_count": 21,
   "id": "599b7910-3b61-4ff6-8d3f-1cd18ac62179",
   "metadata": {},
   "outputs": [
    {
     "name": "stdin",
     "output_type": "stream",
     "text": [
      "What is your salary per annum: 200000000\n",
      "What's your age as of 2023: 20\n"
     ]
    },
    {
     "name": "stdout",
     "output_type": "stream",
     "text": [
      "You are not eligible for 50K loan\n"
     ]
    }
   ],
   "source": [
    "salary = int(input(\"What is your salary per annum:\"))\n",
    "age = int(input(\"What's your age as of 2023:\"))\n",
    "if(salary>=200000 and age>=23):\n",
    "    print(\"You are eligible for 50K loan\")\n",
    "elif(salary<200000 and age>=23):\n",
    "    print(\"You are not eligible for 50K loan\")\n",
    "elif(salary>200000 and age<23):\n",
    "    print(\"You are not eligible for 50K loan\")\n",
    "else:\n",
    "    print(\"Invalid input\")"
   ]
  },
  {
   "cell_type": "code",
   "execution_count": null,
   "id": "d60b5f72-cd5d-455d-ae8d-9ff6d7d21ed3",
   "metadata": {},
   "outputs": [],
   "source": []
  }
 ],
 "metadata": {
  "kernelspec": {
   "display_name": "Python 3 (ipykernel)",
   "language": "python",
   "name": "python3"
  },
  "language_info": {
   "codemirror_mode": {
    "name": "ipython",
    "version": 3
   },
   "file_extension": ".py",
   "mimetype": "text/x-python",
   "name": "python",
   "nbconvert_exporter": "python",
   "pygments_lexer": "ipython3",
   "version": "3.12.4"
  }
 },
 "nbformat": 4,
 "nbformat_minor": 5
}
